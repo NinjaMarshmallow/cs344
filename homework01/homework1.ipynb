{
 "cells": [
  {
   "cell_type": "markdown",
   "metadata": {
    "collapsed": true
   },
   "source": [
    "# Homework 1"
   ]
  },
  {
   "cell_type": "code",
   "execution_count": 18,
   "metadata": {},
   "outputs": [
    {
     "ename": "SyntaxError",
     "evalue": "invalid syntax (<ipython-input-18-93b3d6a4886b>, line 3)",
     "output_type": "error",
     "traceback": [
      "\u001b[1;36m  File \u001b[1;32m\"<ipython-input-18-93b3d6a4886b>\"\u001b[1;36m, line \u001b[1;32m3\u001b[0m\n\u001b[1;33m    The State of this problem would be an ordered list of all of the cities with the starting location also being the ending location, but that is the only city that appears twice.\u001b[0m\n\u001b[1;37m        ^\u001b[0m\n\u001b[1;31mSyntaxError\u001b[0m\u001b[1;31m:\u001b[0m invalid syntax\n"
     ]
    }
   ],
   "source": [
    "## 1.1\n",
    "Using Introspection as a method of modeling Artificial Intelligence processes could be useful, but there are probably better methods. Introspection use as a whole in the realm of Psychology has been in decline in recent history because of the rise of functionalism and behaviorism. Introspection is all about thinking about the way we think, and documenting that thinking process. Perhaps this could be used to program some decision making processes that are meant to mimic human flawed logic, but that is a niche use. The problem is that humans generally have little ability to truly know what they are thinking and more importantly why they are thinking certain things and most importantly humans are quite bad at explaining this in a way a computer could understand. I believe statistical methods like Bayes Theorem and other statistical models are a much better model for Artificial Intelligence processes.\n"
   ]
  },
  {
   "cell_type": "markdown",
   "metadata": {
    "pycharm": {
     "name": "#%% md\n"
    }
   },
   "source": [
    "## 1.2\n",
    "\n",
    "The State of this problem would be an ordered list of all of the cities with the starting location also being the ending location, but that is the only city that appears twice. \n",
    " \n",
    "An Action would be switching any two cities in the list between the bookends of the start and finish location. This switch will either increase, decrease, or maintain the current length the Salesman must traverse to visit all of the cities and return home.\n",
    " \n",
    "The Local Search Algorithm will attempt to optimize for the total distance accumulated by visiting all cities in the current order of the state.\n",
    "\n"
   ]
  },
  {
   "cell_type": "code",
   "metadata": {
    "pycharm": {
     "name": "#%%\n"
    }
   },
   "source": [
    "import sys\n",
    "import random\n",
    "import time\n",
    "sys.path.insert(0, '../tools/aima')\n",
    "from search import Problem, hill_climbing, simulated_annealing, exp_schedule, genetic_search\n",
    "\n",
    "\n",
    "class Town:\n",
    "\n",
    "    def __init__(self, id):\n",
    "        self.neighbors = {}\n",
    "        self.id = id\n",
    "    \n",
    "    def setNeighbor(self, id, distance):\n",
    "        self.neighbors[id] = distance\n",
    "    \n",
    "    def getDistance(self, id):\n",
    "        if(id == self.id):\n",
    "            return 0\n",
    "        return self.neighbors[id]\n",
    "\n",
    "    def __str__(self):\n",
    "        string = ''\n",
    "        for key, value in self.neighbors.items():\n",
    "            string += \"Neighbor: \" + str(key) + \" Distance: \" + str(value) + \"\\n\"\n",
    "        return \"Town \" + str(self.id) + \"\\n\" + string\n",
    "\n",
    "class World:\n",
    "\n",
    "    def __init__(self, numberOfTowns):\n",
    "        self.towns = {}\n",
    "        for i in range(numberOfTowns):\n",
    "            town = Town(i)\n",
    "            self.towns[i] = town\n",
    "        for i in range(numberOfTowns):\n",
    "            for j in range(numberOfTowns):\n",
    "                if(i == j):\n",
    "                    continue\n",
    "                dist = random.randint(1, 100)\n",
    "                self.setDistance(i, j, dist)\n",
    "        \n",
    "        for key, value in self.towns.items():\n",
    "            print(\"\\n\")\n",
    "            print(value)\n",
    "            print(\"\\n\")\n",
    "\n",
    "\n",
    "    def setDistance(self, town1, town2, distance):\n",
    "        self.towns[town1].setNeighbor(town2, distance)\n",
    "        self.towns[town2].setNeighbor(town1, distance)\n",
    "\n",
    "    def calculateDistance(self, town1, town2):\n",
    "        return self.towns[town1].getDistance(town2)\n",
    "\n",
    "\n",
    "class TSP(Problem):\n",
    "    \"\"\"\n",
    "    State: x value for the sine function variant f(x)\n",
    "    Move: a new x value delta steps from the current x (in both directions) \n",
    "    \"\"\"\n",
    "    \n",
    "    def __init__(self, world, initial, maximum=30, delta=0.001):\n",
    "        self.world = world\n",
    "        self.delta = delta\n",
    "        self.initial = initial\n",
    "        \n",
    "        \n",
    "    def actions(self, state):\n",
    "        switches = []\n",
    "        currentPath = state[:]\n",
    "        for x in currentPath:\n",
    "            if(x == currentPath[0]):\n",
    "                continue\n",
    "            for y in currentPath:\n",
    "                if(x == currentPath[0]):\n",
    "                    continue\n",
    "                switches.append(self.switch(currentPath, x, y))\n",
    "\n",
    "        return switches\n",
    "    \n",
    "    def result(self, stateIgnored, x):\n",
    "        return x\n",
    "    \n",
    "    def value(self, path):\n",
    "        totalDistance = 0\n",
    "        # print(path)\n",
    "        for town in path:\n",
    "            nextTown = (path.index(town) + 1)\n",
    "            if(nextTown >= len(path)):\n",
    "                break\n",
    "            nextStopDistance = self.world.calculateDistance(town, path[nextTown])\n",
    "            #print(\"Current Town is:\", town)\n",
    "            #print(\"Next Town is:\", path[nextTown])\n",
    "            #print(\"Distance from\", town, \"to\", path[nextTown], \"is\", nextStopDistance)\n",
    "            totalDistance += nextStopDistance\n",
    "        \n",
    "        returnHomeDistance = self.world.calculateDistance(path[0], path[-1])\n",
    "        #print(\"Return Home:\", returnHomeDistance)\n",
    "        totalDistance += returnHomeDistance\n",
    "\n",
    "        return -totalDistance\n",
    "\n",
    "    def switch(self, path, index1, index2):\n",
    "        newPath = []\n",
    "        for i in path:\n",
    "            if(path.index(i) == index1):\n",
    "                newPath.append(path[index2])\n",
    "            elif(path.index(i) == index2):\n",
    "                newPath.append(path[index1])\n",
    "            else:\n",
    "                newPath.append(i)\n",
    "        return newPath\n",
    "\n",
    "if __name__ == \"__main__\":\n",
    "    towns = 10\n",
    "    world = World(towns)\n",
    "    path = []\n",
    "    for i in range(towns):\n",
    "        path.append(i)\n",
    "    \n",
    "    random.shuffle(path)\n",
    "    print(path)\n",
    "    tsp = TSP(world, path)\n",
    "    print('Initial                      x: ' + str(tsp.initial)\n",
    "          + '\\t\\tvalue: ' + str(-tsp.value(path))\n",
    "          )\n",
    "\n",
    "    startHill = time.time()\n",
    "    # Solve the problem using hill-climbing.\n",
    "    hill_solution = hill_climbing(tsp)\n",
    "    endHill = time.time()\n",
    "    print('Hill-climbing solution       x: ' + str(hill_solution)\n",
    "          + '\\tvalue: ' + str(-tsp.value(hill_solution))\n",
    "          )\n",
    "    print(\"Time taken was\", round(endHill - startHill, 7))\n",
    "\n",
    "    startAnneal = time.time()\n",
    "    annealing_solution = simulated_annealing(\n",
    "        tsp,\n",
    "        exp_schedule(k=20, lam=0.005, limit=1000)\n",
    "    )\n",
    "    endAnneal = time.time()\n",
    "    print('Simulated annealing solution x: ' + str(annealing_solution)\n",
    "          + '\\tvalue: ' + str(-tsp.value(annealing_solution))\n",
    "          )\n",
    "    print(\"Time taken was\", round(endAnneal - startAnneal, 7))    "
   ],
   "execution_count": null,
   "outputs": []
  },
  {
   "cell_type": "markdown",
   "metadata": {
    "pycharm": {
     "name": "#%% md\n"
    }
   },
   "source": [
    "The Simulated Annealing solution seems to work better overall. With 5 towns or less, there is no difference as both find the solution, but since Simulated Annealing has the potential to jump across troughs that seperate local maxima, it is better at optimizing a shorter route. To fit the problem into the algorithm's frame work, the value function returns the distance as a negative integer so that the algorithm optimizes correctly. The Hill climbing algorithm gets stuck at local maximums too easily and there are many local maximums, so the chances of it finding a relatively high local maximum is pretty low as the number of towns grows."
   ]
  },
  {
   "cell_type": "markdown",
   "metadata": {
    "pycharm": {
     "name": "#%% md\n"
    }
   },
   "source": [
    "An interesting problem. Definitely many different ways about creating this Problem object for the algorithms to solve."
   ]
  },
  {
   "cell_type": "code",
   "execution_count": 13,
   "metadata": {},
   "outputs": [
    {
     "name": "stdout",
     "output_type": "stream",
     "text": "{'cs108': 'norman nh064 mwf1130', 'cs112': 'adams sb354 mwf1130', 'cs214': 'adams sb354 tth1030', 'stat343': 'pruim nh064 tth130', 'cs336': 'vanderlinden nh064 tth1030', 'cs300': 'schuurman sb354 tth130'}\n"
    }
   ],
   "source": [
    "## 1.3"
   ]
  },
  {
   "cell_type": "code",
   "execution_count": null,
   "metadata": {
    "pycharm": {
     "name": "#%%\n"
    }
   },
   "outputs": [],
   "source": [
    "import sys\n",
    "sys.path.insert(0, '../tools/aima')\n",
    "from csp import CSP, parse_neighbors, min_conflicts\n",
    "\n",
    "\n",
    "def Scheduler():\n",
    "    \"\"\" Returns an instance of the CSP class. \"\"\"\n",
    "    courses = \"cs108 cs112 cs214 stat343 cs336 cs300\".split()\n",
    "    profs = \"norman adams schuurman pruim vanderlinden\".split()\n",
    "    slots = \"mwf900 mwf1130 tth1030 tth130\".split()\n",
    "    rooms = \"sb354 nh064\".split()\n",
    "        \n",
    "    variables = courses\n",
    "    assignments = {}\n",
    "    assignments['cs108'] = \"norman\"\n",
    "    assignments['cs112'] = \"adams\"\n",
    "    assignments['cs214'] = \"adams\"\n",
    "    assignments['stat343'] = \"pruim\"\n",
    "    assignments['cs336'] = \"vanderlinden\"\n",
    "    assignments['cs300'] = \"schuurman\"\n",
    "    neighbors = parse_neighbors(\"\"\"\n",
    "    cs108: norman; cs112: adams; \n",
    "    cs214: adams; stat343: pruim; \n",
    "    cs336: vanderlinden; cs300: schuurman\n",
    "    \"\"\", variables)\n",
    "    domains = {}\n",
    "    for course in courses:\n",
    "        domains[course] = []\n",
    "    for course in courses:\n",
    "        for prof in profs:\n",
    "            for room in rooms:\n",
    "                for slot in slots:\n",
    "                    domains[course].append(prof + \" \" + room + \" \" + slot)\n",
    "    \n",
    "    for type in [courses]:\n",
    "        for A in type:\n",
    "            for B in type:\n",
    "                if A != B:\n",
    "                    if B not in neighbors[A]:\n",
    "                        neighbors[A].append(B)\n",
    "                    if A not in neighbors[B]:\n",
    "                        neighbors[B].append(A)\n",
    "\n",
    "    def scheduler_constraints(A, a, B, b, recurse=0):\n",
    "        ADomain = a.split()\n",
    "        BDomain = b.split()\n",
    "        A_Prof = ADomain[0]\n",
    "        B_Prof = BDomain[0]\n",
    "        A_Room = ADomain[1]\n",
    "        B_Room = BDomain[1]\n",
    "        A_Slot = ADomain[2]\n",
    "        B_Slot = BDomain[2]\n",
    "        A_Course = A\n",
    "        B_Course = B\n",
    "        \n",
    "        if(A_Prof == B_Prof and A_Slot == B_Slot):\n",
    "            return False\n",
    "        if(A_Room == B_Room and A_Slot == B_Slot):\n",
    "            return False\n",
    "\n",
    "        if('norman' in a and A == 'cs108'):\n",
    "            return True\n",
    "        if('adams' in a and A == 'cs112'):\n",
    "            return True\n",
    "        if('adams' in a and A == 'cs214'):\n",
    "            return True\n",
    "        if('pruim' in a and A == 'stat343'):\n",
    "            return True\n",
    "        if('vanderlinden' in a and A == 'cs336'):\n",
    "            return True\n",
    "        if('schuurman' in a and A == 'cs300'):\n",
    "            return True\n",
    "        if(A in courses and B in courses):\n",
    "            return False\n",
    "        if(recurse == 0):\n",
    "            return scheduler_constraints(B, b, A, a, 1)\n",
    "        return True\n",
    "    \n",
    "    return CSP(variables, domains, neighbors, scheduler_constraints)\n",
    "\n",
    "if __name__ == \"__main__\":\n",
    "    schedule = Scheduler()\n",
    "    solution = min_conflicts(schedule)\n",
    "    print(solution)\n",
    "\n",
    "\n",
    "\n"
   ]
  }
 ],
 "metadata": {
  "kernelspec": {
   "display_name": "Python 3",
   "language": "python",
   "name": "python3"
  },
  "language_info": {
   "codemirror_mode": {
    "name": "ipython",
    "version": 3
   },
   "file_extension": ".py",
   "mimetype": "text/x-python",
   "name": "python",
   "nbconvert_exporter": "python",
   "pygments_lexer": "ipython3",
   "version": "3.8.1-final"
  },
  "pycharm": {
   "stem_cell": {
    "cell_type": "raw",
    "source": [],
    "metadata": {
     "collapsed": false
    }
   }
  }
 },
 "nbformat": 4,
 "nbformat_minor": 1
}
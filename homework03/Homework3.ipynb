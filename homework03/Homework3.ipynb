{
 "cells": [
  {
   "cell_type": "markdown",
   "metadata": {
    "collapsed": false
   },
   "source": [
    "Homework 3 - CS344\n",
    "\n",
    "\n",
    "\n"
   ]
  },
  {
   "cell_type": "markdown",
   "metadata": {
    "collapsed": false
   },
   "source": [
    "Exercise 1\n",
    "\n",
    "Compute the Information Gain of the Price attribute from the restaurant datatable\n",
    "\n",
    "Gain(Price) = Entropy(Wait) - Remainder(Price)\n",
    "\n",
    "            = 1.0 - (3/12 * Entropy($$$) + 2/12 * Entropy($$) + 7/12 * Entropy($)\n",
    "            \n",
    "            = 1.0 - (3/12 * -(lg(1/3) * 1/3 + lg(2/3) * 2/3) + 2/12 * 0 + 7/12 * -(lg(3/7) * 3/7 + lg(4/7) * 4/7) )\n",
    "            \n",
    "            = 1.0 - (3/12 * .9183 + 0 + 7/12 * .9851)\n",
    "            \n",
    "            = 1.0 - (0.804)\n",
    "            \n",
    "            = .196"
   ]
  },
  {
   "cell_type": "code",
   "execution_count": null,
   "metadata": {
    "collapsed": false
   },
   "outputs": [],
   "source": [
    "Exercise 2\n",
    "\n",
    "Simplify the XOR Mutlilayer Network by relaxing conventions of sequential densely connected networks. \n",
    "\n",
    "By removing a node, the network is no longer sequential as there are edges that go from the input nodes to both the hidden middle layer and the output node.\n",
    "The network is still densely connected though and removing edges to make the network no densely connected results in computation failure since the network becomes unbalanced or because a single layer network.\n",
    "\n",
    "In the diagram below:\n",
    "\n",
    "The center hidden node has an activation function requiring a threshold sum of 2 to send along to the output node.\n",
    "All edges have weights of 1 except for the edge from the center hidden node to the output node, which is -2.\n",
    "The Output node will output 1 if the threshold sum is more than 0."
   ]
  },
  {
   "cell_type": "code",
   "execution_count": null,
   "metadata": {},
   "outputs": [],
   "source": [
    "'''\n",
    "Input 1 O -------\n",
    "         \\       \\\n",
    "          O ---- O ---- Output\n",
    "         /       /\n",
    "Input 2 O ------\n",
    "'''"
   ]
  },
  {
   "cell_type": "code",
   "execution_count": null,
   "metadata": {
    "collapsed": false
   },
   "outputs": [],
   "source": [
    "\"\"\"\n",
    "Adapted from the numpy notebook code from kvlinden/cs344-code\n",
    "Student: Jason Klaassen for CS344 at Calvin University\n",
    "3/14/20\n",
    "\n",
    "hw3.py prints out the training and testing data from the keras boston_housing dataset\n",
    "\n",
    "\"\"\"\n",
    "from tensorflow.keras.datasets import boston_housing\n",
    "import pandas as pd\n",
    "import numpy as np\n",
    "\n",
    "(trainingSet, trainingLabels), (testingSet, testingLabels) = boston_housing.load_data()\n",
    "def print_structures():\n",
    "    print(\n",
    "        'training images \\\n",
    "            \\n\\tcount: {} \\\n",
    "            \\n\\tdimensions: {} \\\n",
    "            \\n\\tshape: {} \\\n",
    "            \\n\\tdata type: {}\\n\\n'.format(\n",
    "                len(train_images),\n",
    "                train_images.ndim,\n",
    "                train_images.shape,\n",
    "                train_images.dtype\n",
    "        ),\n",
    "        'testing images \\\n",
    "            \\n\\tcount: {} \\\n",
    "            \\n\\tdimensions: {} \\\n",
    "            \\n\\tshape: {} \\\n",
    "            \\n\\tdata type: {} \\n'.format(\n",
    "                len(test_labels),\n",
    "                train_labels.ndim,\n",
    "                test_labels.shape,\n",
    "                test_labels.dtype\n",
    "        )\n",
    "    )\n",
    "\n",
    "\n",
    "# Exercise 3a Part\n",
    "print_structures()\n",
    "\n",
    "\n",
    "\n"
   ]
  },
  {
   "cell_type": "code",
   "execution_count": 0,
   "metadata": {
    "collapsed": false
   },
   "outputs": [],
   "source": [
    "# Exercise 3b Part\n",
    "# Create Training DataFrame from boston housing data\n",
    "trainingDataFrame = pd.DataFrame(trainingSet)\n",
    "trainingDataFrame[\"target\"] = trainingLabels\n",
    "\n",
    "# Exercise 3c Part\n",
    "# Create Synthetic Feature \n",
    "trainingDataFrame[\"BlackLearningAccess\"] = trainingDataFrame[10] * trainingDataFrame[11]\n",
    "\n",
    "# Create Testing DataFrame from boston housing data\n",
    "testingDataFrame = pd.DataFrame(testingSet)\n",
    "testingDataFrame[\"target\"] = testingLabels\n",
    "\n",
    "# Shuffle the Training Data - Must be before Picking Validation Step\n",
    "trainingDataFrame = trainingDataFrame.reindex(np.random.permutation(trainingDataFrame.index))\n",
    "\n",
    "# Calculate divisions\n",
    "numRows = len(trainingDataFrame)\n",
    "validationRows = Math.floor(numRows * .2)\n",
    "trainingRows = Math.ceil(numRows * .8)\n",
    "\n",
    "# Seperate Validation Set from Training Set with a split of 80% Training and 20% Validation\n",
    "validationDataFrame = trainingDataFrame.head(validationRows)\n",
    "trainingDataFrame = trainingDataFrame.tail(trainingRows)"
   ]
  },
  {
   "cell_type": "markdown",
   "metadata": {
    "collapsed": false
   },
   "source": [
    "Exercise 3 Explanations\n",
    "\n",
    "The synthetic feature created in the above code chunk will show how the percentage of Blacks per town varies with the ratio of pupil to teacher. This would hopefully provide some insight into how effective and well-staffed schools are in majority white towns versus majority black towns. Since schools are funded by district, there could also be confonding variables like average income."
   ]
  }
 ],
 "metadata": {
  "kernelspec": {
   "display_name": "Python 3 (system-wide)",
   "language": "python",
   "metadata": {
    "cocalc": {
     "description": "Python 3 programming language",
     "priority": 100,
     "url": "https://www.python.org/"
    }
   },
   "name": "python3"
  },
  "language_info": {
   "codemirror_mode": {
    "name": "ipython",
    "version": 3
   },
   "file_extension": ".py",
   "mimetype": "text/x-python",
   "name": "python",
   "nbconvert_exporter": "python",
   "pygments_lexer": "ipython3",
   "version": "3.6.9"
  }
 },
 "nbformat": 4,
 "nbformat_minor": 4
}
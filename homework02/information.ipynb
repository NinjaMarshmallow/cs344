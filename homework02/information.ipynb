{
 "cells": [
  {
   "cell_type": "markdown",
   "metadata": {
    "collapsed": true
   },
   "source": [
    "# Information Theory\n",
    "\n",
    "This material is based on Section 18.3 from the AIMA text.\n",
    "\n",
    "Information theory was developed by Claude Shannon in the mid-1900's to quantify information. The key elements of information theory are as follows."
   ]
  },
  {
   "cell_type": "markdown",
   "metadata": {},
   "source": [
    "$Entropy(V) = -\\sum_{i=1}^n  v_i * log_{2}(v_i)$"
   ]
  },
  {
   "cell_type": "markdown",
   "metadata": {},
   "source": [
    "- $V$ is a random variable with $n$ values $v_1, ..., v_n$.\n",
    "\n",
    "You can find a more intuitive explanation of entropy in the introduction to this [Wikipedia article on Entropy](https://en.wikipedia.org/wiki/Entropy_(information_theory))."
   ]
  },
  {
   "cell_type": "markdown",
   "metadata": {},
   "source": [
    "$Remainder(A) = \\sum_{i=1}^d (p_i + n_i) / (p + n) * Entropy(p_i / (p_i + n_i), n_i / (p_i + n_i))$"
   ]
  },
  {
   "cell_type": "markdown",
   "metadata": {},
   "source": [
    "- $A$ is an attribute (e.g., patrons?) with $d$ values.\n",
    "- $p_i$ and $n_i$ are positive and negative answer counts for each value."
   ]
  },
  {
   "cell_type": "markdown",
   "metadata": {},
   "source": [
    "$Gain(A) = Entropy(V) - Remainder(A)$"
   ]
  },
  {
   "cell_type": "markdown",
   "metadata": {},
   "source": [
    "To build a decision tree (e.g., [Restarant decision tree](https://cs.calvin.edu/courses/cs/344/kvlinden/06learning/images/restaurant_tree.png)), choose the attributes (i.e., questions) that maximize information gain at each step based on data collected from the domain (e.g., [Restarant data](https://cs.calvin.edu/courses/cs/344/kvlinden/06learning/images/restaurant_data.png)). In class, we used the restarant data and the given equations to compute the following:\n",
    "- $Gain(Patrons?) = 1 - 0.46 = 0.54$ bits\n",
    "- $Gain(Type?) = 1.0 - 1.0 = 0.0$ bits\n",
    "\n",
    "This indicated that it's better to start by asking the patrons? question rather than the type? question."
   ]
  }
 ],
 "metadata": {
  "kernelspec": {
   "display_name": "Python 3",
   "language": "python",
   "name": "python3"
  },
  "language_info": {
   "codemirror_mode": {
    "name": "ipython",
    "version": 3
   },
   "file_extension": ".py",
   "mimetype": "text/x-python",
   "name": "python",
   "nbconvert_exporter": "python",
   "pygments_lexer": "ipython3",
   "version": "3.6.6"
  }
 },
 "nbformat": 4,
 "nbformat_minor": 1
}
